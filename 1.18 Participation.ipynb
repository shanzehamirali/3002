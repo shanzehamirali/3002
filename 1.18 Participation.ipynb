{
  "metadata": {
    "kernelspec": {
      "name": ""
    },
    "language_info": {
      "name": ""
    }
  },
  "nbformat_minor": 4,
  "nbformat": 4,
  "cells": [
    {
      "cell_type": "markdown",
      "source": "# Participation Activity 2",
      "metadata": {}
    },
    {
      "cell_type": "markdown",
      "source": "## **Group 1:** *Shanzeh Amirali, Alex Taylor, Anika Banerjee, Mia Bechara*",
      "metadata": {}
    },
    {
      "cell_type": "code",
      "source": "Temporal Coding: The spike train is represented by the timing of the spikes. It differs from *rate coding* which is the representation of spikes based on the frequency of activity over time.",
      "metadata": {
        "trusted": true
      },
      "outputs": [],
      "execution_count": null
    },
    {
      "cell_type": "code",
      "source": "* Latency: Time delay between the start of the stimulus and the response. \n* Synchronous coding: Neurons firing simultaneously to represent information\n1. Tuning Curves: The response of a (population) of neuron(s) in response to change in parameters (* **Ex: stimulus intensity** *\n2. Population Codes: Information from the combined activity of a group of neurons",
      "metadata": {
        "trusted": true
      },
      "outputs": [],
      "execution_count": null
    }
  ]
}